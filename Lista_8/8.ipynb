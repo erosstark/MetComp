{
 "cells": [
  {
   "cell_type": "markdown",
   "metadata": {
    "id": "YyATGLoaAarW"
   },
   "source": [
    "# 1 List comp-zip"
   ]
  },
  {
   "cell_type": "markdown",
   "metadata": {
    "id": "zvdkld0i4Rl7"
   },
   "source": [
    "Percorrendo listas"
   ]
  },
  {
   "cell_type": "code",
   "execution_count": null,
   "metadata": {
    "id": "NI67qlOyn4OC"
   },
   "outputs": [],
   "source": [
    "\"\"\"\n",
    "\n",
    "exemplo rudimentar de como percorrer uma lista (usando um loop para acessar o indice)\n",
    "e como percorrer mais de uma lista.\n",
    "\"\"\"\n",
    "\n",
    "\n",
    "n = 21\n",
    "C_min = -10\n",
    "C_max = 40\n",
    "dC = (C_max - C_min)/float(n-1) # incremento em C\n",
    "Cdegrees = []\n",
    "for i in range(n):\n",
    "    Cdegrees.append (-10 + i*dC)\n",
    "Fdegrees = []\n",
    "for i in range(n):\n",
    "    Fdegrees.append((9.0/5)*Cdegrees[i] + 32)\n",
    "for i in range(n):\n",
    "    print ('%d %5.1f %5.1f' % (i, Cdegrees[i], Fdegrees[i]))"
   ]
  },
  {
   "cell_type": "code",
   "execution_count": null,
   "metadata": {
    "colab": {
     "base_uri": "https://localhost:8080/"
    },
    "executionInfo": {
     "elapsed": 15,
     "status": "ok",
     "timestamp": 1711119002504,
     "user": {
      "displayName": "Eros Moreira Ferreira",
      "userId": "10087289450271055812"
     },
     "user_tz": 180
    },
    "id": "dylAph6ayTWz",
    "outputId": "d62dc8ec-951b-43e1-bcf1-76d104c9964a"
   },
   "outputs": [],
   "source": [
    "\"\"\"\n",
    "aqui percorremos a lista com o list comprehension e mais de uma lista com o list-zip\n",
    "\"\"\"\n",
    "n = 21\n",
    "Cdegrees = [-10 + i*2.5 for i in range(n)]      #list comprehension\n",
    "Fdegrees = [(9.0/5)*C + 32 for C in Cdegrees]   #    |      |\n",
    "C_plus_5 = [C+5 for C in Cdegrees]              #   |       |\n",
    "print(C_plus_5)\n",
    "for C, F in zip(Cdegrees, Fdegrees): #list-zip\n",
    "    print (\"%10.1f %5.1f\" % ( C, F))"
   ]
  },
  {
   "cell_type": "markdown",
   "metadata": {
    "id": "Agbzc7DWAg_I"
   },
   "source": [
    "# 2 split and join"
   ]
  },
  {
   "cell_type": "markdown",
   "metadata": {
    "id": "2Z1LuRZD4kvx"
   },
   "source": [
    "split e join"
   ]
  },
  {
   "cell_type": "code",
   "execution_count": null,
   "metadata": {
    "id": "_nymf_HC1rO_"
   },
   "outputs": [],
   "source": [
    "\n",
    "\"\"\"\n",
    "usando split e join (observe como se usa os argumentos)\n",
    "\"\"\"\n",
    "\n",
    "\n",
    "musica = \"Voce eh mais do que sei eh mais que pensei\"\n",
    "lista_palavras = musica.split()\n",
    "print(lista_palavras)\n",
    "print(lista_palavras[1])\n",
    "\n",
    "\n",
    "cola = \"||\"\n",
    "print(cola.join(lista_palavras))\n",
    "\n",
    "print(\"\\n\",\"||\".join(lista_palavras))"
   ]
  },
  {
   "cell_type": "markdown",
   "metadata": {
    "id": "hTAftUQlAmg_"
   },
   "source": [
    "# 3 Mult inpu"
   ]
  },
  {
   "cell_type": "markdown",
   "metadata": {
    "id": "UWJFTA7j4gmK"
   },
   "source": [
    "Multiplos inputs usando split"
   ]
  },
  {
   "cell_type": "code",
   "execution_count": null,
   "metadata": {
    "colab": {
     "base_uri": "https://localhost:8080/",
     "height": 0
    },
    "executionInfo": {
     "elapsed": 2429,
     "status": "error",
     "timestamp": 1711129544639,
     "user": {
      "displayName": "Eros Moreira Ferreira",
      "userId": "10087289450271055812"
     },
     "user_tz": 180
    },
    "id": "OUoERDH96047",
    "outputId": "3b27a362-ac41-4963-f2bd-df5e3e2632dd"
   },
   "outputs": [],
   "source": [
    "\"\"\"\n",
    "Multiplos inputs\n",
    "\"\"\"\n",
    "\n",
    "#Recebendo os numeros em 3 variaveis diferentes\n",
    "x, y, z=input(\"De 3 numeros separados por virgula:\").split(\",\")\n",
    "x=float(x)\n",
    "y=float(y)\n",
    "z=float(z)\n",
    "print(\"Os coefs sao %3.2f %3.2f %3.2f \" %(x,y,z))\n"
   ]
  },
  {
   "cell_type": "code",
   "execution_count": null,
   "metadata": {
    "executionInfo": {
     "elapsed": 2,
     "status": "aborted",
     "timestamp": 1711129541669,
     "user": {
      "displayName": "Eros Moreira Ferreira",
      "userId": "10087289450271055812"
     },
     "user_tz": 180
    },
    "id": "c5QgdoNmvHJ7"
   },
   "outputs": [],
   "source": [
    "#ou se nao sabe quantos dados sao,\n",
    "#pode recebe-los todos em uma lista\n",
    "import numpy as np\n",
    "double = lambda x: x*2\n",
    "x = np.array(list(map(float,input(\"De numeros separados por virgula: \").split(\",\"))))\n",
    "print(double(x))\n",
    "print(\"Lista: \", x)\n",
    "print(type(x))\n",
    "\n",
    "\"\"\"\n",
    "o input retorna string e é convertido na argumento fun do map(fun, kwarg), o map é transformad em\n",
    "lista para ser transformado em array.\n",
    "\n",
    "outro exemplo de uso interessante no codigo abaixo\n",
    "\"\"\""
   ]
  },
  {
   "cell_type": "code",
   "execution_count": null,
   "metadata": {
    "executionInfo": {
     "elapsed": 1,
     "status": "aborted",
     "timestamp": 1711129541669,
     "user": {
      "displayName": "Eros Moreira Ferreira",
      "userId": "10087289450271055812"
     },
     "user_tz": 180
    },
    "id": "6-Gn-jb01XEo"
   },
   "outputs": [],
   "source": [
    "\"\"\"\n",
    "=====================================================================\n",
    "O que  é map!!!!\n",
    "\n",
    "\n",
    "    function: This is the function to which each item of the iterable will be applied.\n",
    "    It can be a built-in function, a user-defined function, or a lambda function.\n",
    "    iterable: This is the iterable (e.g., list, tuple) whose elements will be passed to the function.\n",
    "\n",
    "The map() function returns an iterator, so if you want to see the results,\n",
    "you can convert it to a list, tuple, or iterate over it in a loop.\n",
    "\n",
    "Here's a simple example to illustrate how map() works:\n",
    "\n",
    "\n",
    "=====================================================================\n",
    "\"\"\"\n",
    "\n",
    "# Define a function to double a number\n",
    "# exemplo do chatgpt\n",
    "\"\"\"\n",
    "Observe como o map pode ser usado como um loop:\n",
    "\n",
    "'In Python 3.x, map() returns an iterator, so you can directly use it in a\n",
    "loop or convert it to a list, tuple, etc., to see the results.\n",
    "In Python 2.x, map() returned a list.'\n",
    "\"\"\"\n",
    "def double(x):\n",
    "    return x * 2\n",
    "\n",
    "# Create a list of numbers\n",
    "numbers = [1, 2, 3, 4, 5]\n",
    "\n",
    "# Use map() to apply the double function to each element in the list\n",
    "doubled_numbers = map(double, numbers)\n",
    "\n",
    "# Convert the result into a list\n",
    "doubled_numbers_list = list(doubled_numbers)\n",
    "\n",
    "print(doubled_numbers_list)  # Output: [2, 4, 6, 8, 10]\n",
    "\n"
   ]
  },
  {
   "cell_type": "markdown",
   "metadata": {
    "id": "rA1ySAgh48s6"
   },
   "source": [
    "Multiplos inputs usando list comprehension"
   ]
  },
  {
   "cell_type": "code",
   "execution_count": null,
   "metadata": {
    "executionInfo": {
     "elapsed": 1,
     "status": "aborted",
     "timestamp": 1711129541669,
     "user": {
      "displayName": "Eros Moreira Ferreira",
      "userId": "10087289450271055812"
     },
     "user_tz": 180
    },
    "id": "eXLfJ4GW52nR"
   },
   "outputs": [],
   "source": [
    "\"\"\"\n",
    "Observe o argumento do split !!!!\n",
    "\"\"\"\n",
    "\n",
    "# Recebendo os n´umeros em 3 vari´aveis diferentes\n",
    "print(\"Os numeros devem estar separados por virgula\")\n",
    "x, y, z=[float(x) for x in input(\"De 3 numeros\").split(\",\")]\n",
    "print(\"Os coefs sao %3.2f %3.2f %3.2f \" %(x,y,z))\n",
    "\n",
    "\n",
    "\n",
    "# ou se nao sabe quantos dados sao\n",
    "#pode recebe-los todos em uma lista\n",
    "x = [int(x) for x in input(\"De numeros\").split()]\n",
    "print(\"Number of list is: \", x)"
   ]
  },
  {
   "cell_type": "markdown",
   "metadata": {
    "id": "4DFX355YA3qy"
   },
   "source": [
    "# 4 Error Handling"
   ]
  },
  {
   "cell_type": "markdown",
   "metadata": {
    "id": "KSkIBx7CBIjV"
   },
   "source": [
    "error handling"
   ]
  },
  {
   "cell_type": "code",
   "execution_count": null,
   "metadata": {
    "id": "fdSCMgRlsexH"
   },
   "outputs": [],
   "source": [
    "import sys\n",
    "\n",
    "try:\n",
    "    c = float(input(\"n\"))\n",
    "    f = 2*c\n",
    "    print(c,f)\n",
    "except IndexError:\n",
    "    print(\"o valor deve ser fonecido\")\n",
    "except ValueError:\n",
    "    print(\"dever ser numero\")\n",
    "\n",
    "print(c)"
   ]
  },
  {
   "cell_type": "markdown",
   "metadata": {
    "id": "4MEof9DGBhNf"
   },
   "source": [
    "# 5 Eval"
   ]
  },
  {
   "cell_type": "markdown",
   "metadata": {
    "id": "pdWXjOu8rsuz"
   },
   "source": [
    "A funçao eval recebe uma string e retorna uma expressão."
   ]
  },
  {
   "cell_type": "markdown",
   "metadata": {
    "id": "5fzGiPXtCUIV"
   },
   "source": [
    "Eval"
   ]
  },
  {
   "cell_type": "code",
   "execution_count": null,
   "metadata": {
    "colab": {
     "base_uri": "https://localhost:8080/"
    },
    "executionInfo": {
     "elapsed": 4493,
     "status": "ok",
     "timestamp": 1711122633227,
     "user": {
      "displayName": "Eros Moreira Ferreira",
      "userId": "10087289450271055812"
     },
     "user_tz": 180
    },
    "id": "2tfGKO6vBfuV",
    "outputId": "3c537310-a3f1-4102-cd64-f4e1f3990428"
   },
   "outputs": [],
   "source": [
    "\n",
    "\n",
    "from math import *\n",
    "\n",
    "# aqui o a é uma string.\n",
    "a = \"(1 + 2 * 7) / 3\"\n",
    "print(type(a))\n",
    "\n",
    "# com o eval, ele é transformado em uma expressão (1 + 2 * 7) / 3\n",
    "print(eval(a))\n",
    "\n",
    "\n",
    "\"\"\"\n",
    " O argumetno do eval nao pode ser um número. precisa ser uma string\n",
    "\n",
    " ex:\n",
    "\n",
    " b = 1\n",
    " x = \"1\"\n",
    "\n",
    " s = eval(b+x) # Erro: b é int\n",
    " s = 1 + eval(x) # formato correto\n",
    "\n",
    "\"\"\"\n",
    "#b e x é uma string.\n",
    "\n",
    "b = input(\"digite numero \")\n",
    "x = input(\"numero \")\n",
    "\n",
    "\n",
    "print(eval(b+x)) # str(1) + str(2) = str(12) --> eval(12) = int(12)\n",
    "\n",
    "print(eval(b)+eval(x)) #int(1) + int(2) = 3\n",
    "\n"
   ]
  },
  {
   "cell_type": "markdown",
   "metadata": {
    "id": "vhDRzQQ-wMcJ"
   },
   "source": [
    "Recebendo uma função pelo input com eval\n"
   ]
  },
  {
   "cell_type": "code",
   "execution_count": null,
   "metadata": {
    "id": "t-2-B5zgpPYY"
   },
   "outputs": [],
   "source": [
    "\"\"\"\n",
    "\n",
    "Nesse programa a funçao f(x )pode ser dada pelo input.\n",
    "Em seguida, é pedido os valores máximos e minimos de x para plotar o grafico.\n",
    "\"\"\"\n",
    "\n",
    "from numpy import *\n",
    "from matplotlib.pyplot import *\n",
    "\n",
    "\n",
    "fun = input(\"f(x) = \")  # pode ser digitado sin(x) ou x**2 por exemplo\n",
    "xmin = eval(input(\"xmin = \"))\n",
    "xmax = eval(input(\"xamx = \"))\n",
    "\n",
    "x = arange(xmin, xmax, 0.1)\n",
    "y = eval(fun)\n",
    "\n",
    "plot(x,y)\n",
    "axhline(color = \"gray\", zorder = 1)\n",
    "show()\n",
    "\n"
   ]
  },
  {
   "cell_type": "code",
   "execution_count": null,
   "metadata": {
    "colab": {
     "base_uri": "https://localhost:8080/"
    },
    "executionInfo": {
     "elapsed": 15088,
     "status": "ok",
     "timestamp": 1711122950821,
     "user": {
      "displayName": "Eros Moreira Ferreira",
      "userId": "10087289450271055812"
     },
     "user_tz": 180
    },
    "id": "6HUAJA_I2-hi",
    "outputId": "0f08babc-a858-465b-a459-41c4efde5c3d"
   },
   "outputs": [],
   "source": [
    "\"\"\"\n",
    "o eval também pode retornar uma string, basta que o argumento esteja entre aspas\n",
    "\n",
    "ex:\n",
    "\n",
    "b = input()\n",
    "\n",
    ">>>>> input b \" 2 \"\n",
    "\n",
    "c = eval(b)\n",
    "\n",
    "print(type(c))\n",
    ">>>>>  str\n",
    "\n",
    "print(c)\n",
    ">>>>> 2\n",
    "\n",
    "\n",
    "\"\"\"\n",
    "\n",
    "b = input() #digite algo entre aspas (pode ser numero, texto...)\n",
    "c = eval(b)\n",
    "print(type(c))\n",
    "print(c)\n",
    "\n",
    "\n",
    "# tambem e possivel receber uma lista\n",
    "\n",
    "a = input() # deve ser digitado algo como [1,2,a,e,]\n",
    "print(type(eval(a)))"
   ]
  },
  {
   "cell_type": "markdown",
   "metadata": {
    "id": "gD0bQRtLQ0m5"
   },
   "source": [
    "# 6 input de arquivos"
   ]
  },
  {
   "cell_type": "markdown",
   "metadata": {
    "id": "NGd8gXempOQI"
   },
   "source": [
    "# 7 inline if"
   ]
  },
  {
   "cell_type": "code",
   "execution_count": null,
   "metadata": {
    "id": "pRYYp9wuQ-78"
   },
   "outputs": [],
   "source": [
    "# Permite atribuir valor condicional de forma compacta\n",
    "from math import *\n",
    "\"\"\"\n",
    "Em  vez de\n",
    "\n",
    "if condicao:\n",
    "    a = valor1\n",
    "else:\n",
    "    a = valor2\n",
    "\n",
    "podemos usar:\n",
    "\"\"\"\n",
    "x = 2\n",
    "y = sin(x) if 1 <= x <= 3 else cos(x)\n",
    "print(y)\n",
    "\n",
    "# é interessante usar  na funçao lambda.\n",
    "f = lambda x: sin(x) if 0 <= x <= 2*pi else 0\n",
    "print(f(2))\n",
    "print(f(-2))"
   ]
  },
  {
   "cell_type": "markdown",
   "metadata": {},
   "source": [
    "# 8 Input pela linha de comando"
   ]
  },
  {
   "cell_type": "code",
   "execution_count": null,
   "metadata": {},
   "outputs": [],
   "source": [
    "\"\"\" \n",
    "É possivel passar input pelo terminal:\n",
    "\n",
    "python3 NomeDoArquivo Argumento1 Argumento2 ...\n",
    "\n",
    "Os elementos sao tratados como string, se forem numeros \n",
    "devem ser convertidos.\n",
    "\n",
    "Os argumentos devem ser separados por espaço.\n",
    "\n",
    "Coloque comentarios (doc string) para que o usuario \n",
    "saiba a ordem dos argumentos\n",
    "\n",
    "\"\"\"\n",
    "\n",
    "# O modulo  sys tem uma lista argv que\n",
    "# contem todos os argumentos passados \n",
    "# pela linha de comandos\n",
    "\n",
    "import sys\n",
    "from math import sin\n",
    "\n",
    "A = float(sys.argv[1])\n",
    "w = float(sys.argv[2])\n",
    "t = float(sys.argv[3])\n",
    "x = A*sin(w*t)\n",
    "print (x)"
   ]
  }
 ],
 "metadata": {
  "colab": {
   "authorship_tag": "ABX9TyNs81Dua/r5r+aTL3hs9Q5m",
   "provenance": [],
   "toc_visible": true
  },
  "kernelspec": {
   "display_name": "Python 3 (ipykernel)",
   "language": "python",
   "name": "python3"
  },
  "language_info": {
   "codemirror_mode": {
    "name": "ipython",
    "version": 3
   },
   "file_extension": ".py",
   "mimetype": "text/x-python",
   "name": "python",
   "nbconvert_exporter": "python",
   "pygments_lexer": "ipython3",
   "version": "3.12.3"
  }
 },
 "nbformat": 4,
 "nbformat_minor": 4
}
