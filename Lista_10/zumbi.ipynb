{
 "cells": [
  {
   "cell_type": "code",
   "execution_count": null,
   "metadata": {},
   "outputs": [],
   "source": [
    "#%%\n",
    "\"\"\" \n",
    "Eros Moreira Ferreira\n",
    "\n",
    "Podemos modelar o ataque de zumbis a uma populac¸ao de humanos através\n",
    "da soluc¸ao do seguinte sistema de equacões diferenciais:\n",
    "\n",
    "dS/dt = Σ - βSZ - δsS\n",
    "dI/dt = βSZ - ρI - δiI\n",
    "dZ/dt = ρI - αSZ\n",
    "dR/dt = δsS + δiI + αSZ\n",
    "\n",
    "Nestas equações S, I, Z e R representam quatro categorias:\n",
    "    Os humanos suscetíveis a se tornarem zumbis (S)\n",
    "    Os humanos infectados mordidos por zumbis (I)\n",
    "    Os zumbis (Z)\n",
    "    Os removidos (R) ( zumbis presos ou humanos mortos)\n",
    "    \n",
    "S(t), I(t), Z(t) e R(t) sao os números de indivíduos em cada categoria ao\n",
    "longo do tempo. A unidade de tempo e a hora.\n",
    "\n",
    "Os parametros representam: \n",
    "    Σ Numero de novos humanos levados para a área infectada por unidade\n",
    "de tempo\n",
    "    β probabilidade de um encontro de um humano com um zumbi, por\n",
    "unidade de tempo, resultando em um infectado\n",
    "    α probabilidade de que um humano mate um zumbi, por unidade de\n",
    "tempo\n",
    "    δs probabilidade de que um humano suscetível morra, por unidade de\n",
    "tempo\n",
    "    δi probabilidade de que um humano infectado morra, por unidade de\n",
    "tempo\n",
    "    ρ probabilidade de que um humano infectado se torne zumbi, por\n",
    "unidade de tempo\n",
    "\n",
    "Para ser mais fiel ao filme, podemos definir 3 fases, cada uma com um\n",
    "conjunto de valores de parametros: \n",
    "    fase 1 - as primeiras 4 horas: humanos se encontram com um zumbi:\n",
    "Σ = 20, β = 0.03, ρ = 1, δs = 0, δi = 0, α = 0\n",
    "    fase 2 - duração de 24 horas: a praga de zumbis se torna evidente: \n",
    "Σ = 2, β = 0.0012, ρ = 1, δs = 0, δi = 0.014, α = 0.0016\n",
    "    fase 3 - apos as primeiras 28 horas: contra-ataque dos humanos: \n",
    "Σ = 2, β = 0 (humanos nao são mais infectados), ρ = 1, δs = 0.0067, δi = 0.014, α = 0.006\n",
    "\n",
    "\n",
    "\"\"\""
   ]
  },
  {
   "cell_type": "code",
   "execution_count": 1,
   "metadata": {},
   "outputs": [],
   "source": [
    "#%%\n",
    "import numpy as np\n",
    "import matplotlib.pyplot as plt\n",
    "from euler_syst import Euler\n",
    "from rk4 import RungeKutta4"
   ]
  },
  {
   "cell_type": "code",
   "execution_count": 2,
   "metadata": {},
   "outputs": [],
   "source": [
    "#%%\n",
    "# Função zumbi\n",
    "def zumbi(s,t, params):\n",
    "    Σ = params[0]['Σ']\n",
    "    β = params[0]['β']\n",
    "    ρ = params[0]['ρ']\n",
    "    δs = params[0]['δs']\n",
    "    δi = params[0]['δi']\n",
    "    α = params[0]['α']\n",
    "    S = s[0];  Z = s[1]; I = s[2]; R = s[3]\n",
    "    \n",
    "    return np.array([Σ - β*S*Z - δs*S, β*S*Z - ρ*I - δi*I, ρ*I - α*S*Z, δs*S + δi*I + α*S*Z])"
   ]
  },
  {
   "cell_type": "code",
   "execution_count": 3,
   "metadata": {},
   "outputs": [],
   "source": [
    "#%%\n",
    "# Paarâmetros de cada fase.\n",
    "fase1 : dict = {'Σ' : 20, 'β': 0.03, 'ρ': 1, 'δs': 0, 'δi': 0, 'α': 0}\n",
    "fase2 : dict = {'Σ' : 2, 'β': 0.0012, 'ρ': 1, 'δs': 0, 'δi': 0.014, 'α': 0.0016}\n",
    "fase3 : dict = {'Σ' : 2, 'β': 0, 'ρ': 1, 'δs': 0.0067, 'δi': 0.014, 'α': 0.006}"
   ]
  },
  {
   "cell_type": "code",
   "execution_count": 4,
   "metadata": {},
   "outputs": [],
   "source": [
    "#%%\n",
    "# Condições iniciais. ( S, Z, I, R )\n",
    "S = [60, 1, 0, 0]   \n",
    "                    #[i , f] em horas\n",
    "timeSpan = np.array([[0, 4],\\\n",
    "                     [4, 28],\\\n",
    "                     [28, 60]]) # fase 1,\\ fase 2,\\ fase 3\n",
    "dt = 0.05 # passo de tempo"
   ]
  },
  {
   "cell_type": "code",
   "execution_count": null,
   "metadata": {},
   "outputs": [],
   "source": [
    "#%%\n",
    "# Solução pelo metodo de Euler\n",
    "#for fase, i in zip([fase1, fase2, fase3], range(0,3)):\n",
    " #   sol, t = Euler(zumbi, S, timeSpan[i,0], timeSpan[i,1], fase, TimeStep=dt)"
   ]
  },
  {
   "cell_type": "code",
   "execution_count": 8,
   "metadata": {},
   "outputs": [
    {
     "name": "stderr",
     "output_type": "stream",
     "text": [
      "C:\\Users\\eross\\AppData\\Local\\Temp\\ipykernel_15520\\3247300677.py:12: RuntimeWarning: overflow encountered in scalar multiply\n",
      "  return np.array([Σ - β*S*Z - δs*S, β*S*Z - ρ*I - δi*I, ρ*I - α*S*Z, δs*S + δi*I + α*S*Z])\n",
      "C:\\Users\\eross\\AppData\\Local\\Temp\\ipykernel_15520\\3247300677.py:12: RuntimeWarning: invalid value encountered in scalar multiply\n",
      "  return np.array([Σ - β*S*Z - δs*S, β*S*Z - ρ*I - δi*I, ρ*I - α*S*Z, δs*S + δi*I + α*S*Z])\n"
     ]
    }
   ],
   "source": [
    "#%%\n",
    "sol, t = Euler(zumbi, S, timeSpan[0,0], timeSpan[0,1], fase1, TimeStep=dt)\n",
    "sol2, t2 = Euler(zumbi, sol[-1,:], timeSpan[1,0], timeSpan[1,1], fase2, TimeStep=dt)\n",
    "sol3, t3 = Euler(zumbi, sol2[-1,:], timeSpan[2,0], timeSpan[2,1], fase3, TimeStep=dt)"
   ]
  },
  {
   "cell_type": "code",
   "execution_count": null,
   "metadata": {},
   "outputs": [],
   "source": []
  }
 ],
 "metadata": {
  "kernelspec": {
   "display_name": "Python 3",
   "language": "python",
   "name": "python3"
  },
  "language_info": {
   "codemirror_mode": {
    "name": "ipython",
    "version": 3
   },
   "file_extension": ".py",
   "mimetype": "text/x-python",
   "name": "python",
   "nbconvert_exporter": "python",
   "pygments_lexer": "ipython3",
   "version": "3.12.3"
  }
 },
 "nbformat": 4,
 "nbformat_minor": 2
}
